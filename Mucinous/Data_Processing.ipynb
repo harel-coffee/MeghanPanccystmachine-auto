{
  "nbformat": 4,
  "nbformat_minor": 0,
  "metadata": {
    "colab": {
      "name": "Copy of CT Analysis - Data Processing.ipynb",
      "provenance": [],
      "collapsed_sections": [
        "JN23gpVSNx79",
        "HVt-AGY9_L7t",
        "St2kIuzNO3Xw"
      ],
      "toc_visible": true
    },
    "kernelspec": {
      "name": "python3",
      "display_name": "Python 3"
    }
  },
  "cells": [
    {
      "cell_type": "markdown",
      "metadata": {
        "id": "esDZitIZRQ5q"
      },
      "source": [
        "# Imports"
      ]
    },
    {
      "cell_type": "code",
      "metadata": {
        "id": "YJmQzXcrJZfl"
      },
      "source": [
        "import pandas as pd\n",
        "import numpy as np\n",
        "import matplotlib.pyplot as plt\n",
        "import seaborn as sns"
      ],
      "execution_count": null,
      "outputs": []
    },
    {
      "cell_type": "code",
      "metadata": {
        "id": "hzQ4CPtSMPVQ"
      },
      "source": [
        "#Allows dataset from drive to be utilized\n",
        "from google.colab import drive\n",
        "drive.mount(\"/content/drive\", force_remount=True)"
      ],
      "execution_count": null,
      "outputs": []
    },
    {
      "cell_type": "code",
      "metadata": {
        "id": "XZt9sZgDL5EX"
      },
      "source": [
        "#Dataset from location in drive\n",
        "ds=pd.read_csv(LOCATION_OF_ORIGINAL_DATASET)"
      ],
      "execution_count": null,
      "outputs": []
    },
    {
      "cell_type": "markdown",
      "metadata": {
        "id": "JN23gpVSNx79"
      },
      "source": [
        "# Initial Dataset Visualized\n",
        "These are various ways to analyze the amount of null values in each column of the dataset"
      ]
    },
    {
      "cell_type": "code",
      "metadata": {
        "id": "rr3FyHuANCXk"
      },
      "source": [
        "ds.shape"
      ],
      "execution_count": null,
      "outputs": []
    },
    {
      "cell_type": "code",
      "metadata": {
        "id": "XgMhgfAXRSUC"
      },
      "source": [
        "print(ds)"
      ],
      "execution_count": null,
      "outputs": []
    },
    {
      "cell_type": "code",
      "metadata": {
        "id": "v7uQD_8mNVJK"
      },
      "source": [
        "#ds.head()\n",
        "ds.loc[:, ds.isnull().any()].head()"
      ],
      "execution_count": null,
      "outputs": []
    },
    {
      "cell_type": "code",
      "metadata": {
        "id": "bJhfjZWzNfn0"
      },
      "source": [
        "pd.set_option('display.max_rows', 149)\n",
        "#print(ds)\n",
        "ds.isnull().sum()"
      ],
      "execution_count": null,
      "outputs": []
    },
    {
      "cell_type": "code",
      "metadata": {
        "id": "5HVDgUcymYeY"
      },
      "source": [
        "#Heatmap of dataset showing the null values\n",
        "sns.heatmap(ds.isnull(),yticklabels=False,cbar=False,cmap='viridis')"
      ],
      "execution_count": null,
      "outputs": []
    },
    {
      "cell_type": "markdown",
      "metadata": {
        "id": "7DClKYneOVor"
      },
      "source": [
        "# Data Manipulation"
      ]
    },
    {
      "cell_type": "markdown",
      "metadata": {
        "id": "tw138Mtw_O7f"
      },
      "source": [
        "## Columns to drop"
      ]
    },
    {
      "cell_type": "code",
      "metadata": {
        "id": "jIbz7tck0RA_"
      },
      "source": [
        "drop_columns = [\n",
        "'LUNG_RADS_DIAMETER_MM',\n",
        "'cancer_type',\n",
        "'eus_performed',\n",
        "'fna_performed',\n",
        "'cyto_results',\n",
        "'operation_performed',\n",
        "'path_cyst_id',\n",
        "'path_mucin',\n",
        "'path_cea',\n",
        "'other_cysts',\n",
        "'eus_dx',\n",
        "'eus_consistency',\n",
        "'multiples',\n",
        "\n",
        "'ENTROPY_VOXELS',\n",
        "'KURTOSIS_VOXELS',\n",
        "'MEAN_DEVIATION_VOXELS',\n",
        "'SKEWNESS_VOXELS',\n",
        "'STD_DEV_VOXELS',\n",
        "'VARIANCE_VOXELS',\n",
        "\n",
        "#'ENERGY_VOXELS',\n",
        "#'MAX_VOXELS',\n",
        "#'MEAN_VOXELS',\n",
        "#'MEDIAN_VOXELS',\n",
        "#'MIN_VOXELS',\n",
        "#'ROOT_MEAN_SQUARE_VOXELS',\n",
        "#'SOLID_VOLUME_VOXELS',\n",
        "#'UNIFORMITY_VOXELS',\n",
        "#'VOLUME_VOXELS',\n",
        "\n",
        "'path_duct',\n",
        "'path_cyst_cat',\n",
        "'path_dysplastic_margin',\n",
        "'path_malignancy',\n",
        "'path_grade_dysplasia',\n",
        "'cystid',\n",
        "'character_comment',\n",
        "'othercyst_comments',\n",
        "'path_cyst_count',\n",
        "'path_dx',\n",
        "'path_num_cysts',\n",
        "'study_idnumber',\n",
        "'study_id',\n",
        "'path_available',\n",
        "'serum_ca19',\n",
        "'serum_cea',\n",
        "'path_size',\n",
        "'mucin_cyst',\n",
        "'path_size',\n",
        "'comments_clinical',\n",
        "'path_pancreatitis',\n",
        "'operation_performed_other',\n",
        "'eus_fluid_other',\n",
        "'eus_color',\n",
        "'eus_other',\n",
        "'amylase_cyst',\n",
        "'cea_cyst',\n",
        "'ca19_cyst',\n",
        "'cyst_location_other',\n",
        "'max_duct_dil',\n",
        "'comments_rads',\n",
        "'cancer_type',\n",
        "'pancreatitis_dx_year',\n",
        "'first_scan_reason',\n",
        "'rad_dx_first_scan',\n",
        "'rad_dx_last_scan',\n",
        "'cea_cat',\n",
        "'ANTPOST_LENGTH_END_MM_X',\n",
        "'ANTPOST_LENGTH_END_MM_Y',\n",
        "'ANTPOST_LENGTH_END_MM_Z',\n",
        "'ANTPOST_LENGTH_START_MM_X',\n",
        "'ANTPOST_LENGTH_START_MM_Y',\n",
        "'ANTPOST_LENGTH_START_MM_Z',\n",
        "'AUTO_CORONAL_LONG_AXIS_END_MM_X',\n",
        "'AUTO_CORONAL_LONG_AXIS_END_MM_Y',\n",
        "'AUTO_CORONAL_LONG_AXIS_END_MM_Z',\n",
        "'AUTO_CORONAL_LONG_AXIS_END_VOXEL',\n",
        "'V',\n",
        "'W',\n",
        "'AUTO_CORONAL_LONG_AXIS_START_MM_',\n",
        "'Z',\n",
        "'AA',\n",
        "'AUTO_CORONAL_LONG_AXIS_START_VOX',\n",
        "'AC',\n",
        "'AD',\n",
        "'AUTO_CORONAL_SHORT_AXIS_END_MM_X',\n",
        "'AUTO_CORONAL_SHORT_AXIS_END_MM_Y',\n",
        "'AUTO_CORONAL_SHORT_AXIS_END_MM_Z',\n",
        "'AUTO_CORONAL_SHORT_AXIS_END_VOXE',\n",
        "'AI',\n",
        "'AJ',\n",
        "'AUTO_CORONAL_SHORT_AXIS_START_MM',\n",
        "'AM',\n",
        "'AN',\n",
        "'AUTO_CORONAL_SHORT_AXIS_START_VO',\n",
        "'AP',\n",
        "'AQ',\n",
        "'AUTO_LARGEST_PLANAR_DIAMETER_END',\n",
        "'AS',\n",
        "'AT',\n",
        "'AU',\n",
        "'AV',\n",
        "'AW',\n",
        "'AUTO_LARGEST_PLANAR_DIAMETER_STA',\n",
        "'AZ',\n",
        "'BA',\n",
        "'BB',\n",
        "'BC',\n",
        "'BD',\n",
        "'AUTO_LARGEST_PLANAR_ORTHO_DIAMET',\n",
        "'BF',\n",
        "'BG',\n",
        "'BH',\n",
        "'BI',\n",
        "'BJ',\n",
        "'BK',\n",
        "'BL',\n",
        "'BM',\n",
        "'BN',\n",
        "'BO',\n",
        "'BP',\n",
        "'BQ',\n",
        "'AUTO_SAGITTAL_LONG_AXIS_END_MM_X',\n",
        "'AUTO_SAGITTAL_LONG_AXIS_END_MM_Y',\n",
        "'AUTO_SAGITTAL_LONG_AXIS_END_MM_Z',\n",
        "'AUTO_SAGITTAL_LONG_AXIS_END_VOXE',\n",
        "'BV',\n",
        "'BW',\n",
        "'AUTO_SAGITTAL_LONG_AXIS_START_MM',\n",
        "'BZ',\n",
        "'CA',\n",
        "'AUTO_SAGITTAL_LONG_AXIS_START_VO',\n",
        "'CC',\n",
        "'CD',\n",
        "'AUTO_SAGITTAL_SHORT_AXIS_END_MM_',\n",
        "'CF',\n",
        "'CG',\n",
        "'AUTO_SAGITTAL_SHORT_AXIS_END_VOX',\n",
        "'CI',\n",
        "'CJ',\n",
        "'AUTO_SAGITTAL_SHORT_AXIS_START_M',\n",
        "'CM',\n",
        "'CN',\n",
        "'AUTO_SAGITTAL_SHORT_AXIS_START_V',\n",
        "'CP',\n",
        "'CQ',\n",
        "'CENTROID_X_MM',\n",
        "'CENTROID_Y_MM',\n",
        "'CENTROID_Z_MM',\n",
        "'CONFIRMATION_STATUS',\n",
        "'CORONAL_LONG_AXIS_END_MM_X',\n",
        "'CORONAL_LONG_AXIS_END_MM_Y',\n",
        "'CORONAL_LONG_AXIS_END_MM_Z',\n",
        "'CORONAL_LONG_AXIS_END_VOXELS_X',\n",
        "'CORONAL_LONG_AXIS_END_VOXELS_Y',\n",
        "'CORONAL_LONG_AXIS_END_VOXELS_Z',\n",
        "'CORONAL_LONG_AXIS_START_MM_X',\n",
        "'CORONAL_LONG_AXIS_START_MM_Y',\n",
        "'CORONAL_LONG_AXIS_START_MM_Z',\n",
        "'CORONAL_LONG_AXIS_START_VOXELS_X',\n",
        "'CORONAL_LONG_AXIS_START_VOXELS_Y',\n",
        "'CORONAL_LONG_AXIS_START_VOXELS_Z',\n",
        "'CORONAL_SHORT_AXIS_END_MM_X',\n",
        "'CORONAL_SHORT_AXIS_END_MM_Y',\n",
        "'CORONAL_SHORT_AXIS_END_MM_Z',\n",
        "'CORONAL_SHORT_AXIS_END_VOXELS_X',\n",
        "'CORONAL_SHORT_AXIS_END_VOXELS_Y',\n",
        "'CORONAL_SHORT_AXIS_END_VOXELS_Z',\n",
        "'CORONAL_SHORT_AXIS_START_MM_X',\n",
        "'CORONAL_SHORT_AXIS_START_MM_Y', \n",
        "'CORONAL_SHORT_AXIS_START_MM_Z', \n",
        "'CORONAL_SHORT_AXIS_START_VOXELS_', \n",
        "'DY', \n",
        "'DZ', \n",
        "'CRANIALCAUDAL_LENGTH_END_MM_X', \n",
        "'CRANIALCAUDAL_LENGTH_END_MM_Y', \n",
        "'CRANIALCAUDAL_LENGTH_END_MM_Z',\n",
        "'CRANIALCAUDAL_LENGTH_START_MM_X',\n",
        "'CRANIALCAUDAL_LENGTH_START_MM_Y', \n",
        "'CRANIALCAUDAL_LENGTH_START_MM_Z',\n",
        "'FOOTPRINT_END_MM_X',\n",
        "'FOOTPRINT_END_MM_Y', \n",
        "'FOOTPRINT_END_MM_Z', \n",
        "'FOOTPRINT_END_VOXELS_X', \n",
        "'FOOTPRINT_END_VOXELS_Y', \n",
        "'FOOTPRINT_END_VOXELS_Z', \n",
        "'FOOTPRINT_START_MM_X', \n",
        "'FOOTPRINT_START_MM_Y', \n",
        "'FOOTPRINT_START_MM_Z', \n",
        "'FOOTPRINT_START_VOXELS_X', \n",
        "'FOOTPRINT_START_VOXELS_Y', \n",
        "'FOOTPRINT_START_VOXELS_Z', \n",
        "'FOOTPRINT_X_MM', \n",
        "'FOOTPRINT_Y_MM', \n",
        "'FOOTPRINT_Z_MM',\n",
        "'INIT_DRAG_LONG_END_PATIENT_X',\n",
        "'INIT_DRAG_LONG_END_PATIENT_Y', \n",
        "'INIT_DRAG_LONG_END_PATIENT_Z', \n",
        "'INIT_DRAG_LONG_START_PATIENT_X', \n",
        "'INIT_DRAG_LONG_START_PATIENT_Y', \n",
        "'INIT_DRAG_LONG_START_PATIENT_Z',\n",
        "'L1_AXIS_END_X_MM',\n",
        "'L1_AXIS_END_Y_MM', \n",
        "'L1_AXIS_END_Z_MM', \n",
        "'L1_AXIS_START_X_MM', \n",
        "'L1_AXIS_START_Y_MM', \n",
        "'L1_AXIS_START_Z_MM',\n",
        "'L1_UNIT_AXIS_X_MM',\n",
        "'L1_UNIT_AXIS_Y_MM', \n",
        "'L1_UNIT_AXIS_Z_MM', \n",
        "'L2_AXIS_END_X_MM', \n",
        "'L2_AXIS_END_Y_MM', \n",
        "'L2_AXIS_END_Z_MM', \n",
        "'L2_AXIS_START_X_MM', \n",
        "'L2_AXIS_START_Y_MM', \n",
        "'L2_AXIS_START_Z_MM',\n",
        "'L2_UNIT_AXIS_X_MM',\n",
        "'L2_UNIT_AXIS_Y_MM', \n",
        "'L2_UNIT_AXIS_Z_MM', \n",
        "'L3_AXIS_END_X_MM', \n",
        "'L3_AXIS_END_Y_MM', \n",
        "'L3_AXIS_END_Z_MM', \n",
        "'L3_AXIS_START_X_MM', \n",
        "'L3_AXIS_START_Y_MM', \n",
        "'L3_AXIS_START_Z_MM',\n",
        "'L3_UNIT_AXIS_X_MM', \n",
        "'L3_UNIT_AXIS_Y_MM', \n",
        "'L3_UNIT_AXIS_Z_MM', \n",
        "'LARGEST_PLANAR_DIAMETER_END_MM_X', \n",
        "'LARGEST_PLANAR_DIAMETER_END_MM_Y', \n",
        "'LARGEST_PLANAR_DIAMETER_END_MM_Z', \n",
        "'LARGEST_PLANAR_DIAMETER_END_VOXE', \n",
        "'HD', \n",
        "'HE',\n",
        "'LARGEST_PLANAR_DIAMETER_START_MM', \n",
        "'HH', \n",
        "'HI', \n",
        "'LARGEST_PLANAR_DIAMETER_START_VO', \n",
        "'HK', \n",
        "'HL', \n",
        "'LARGEST_PLANAR_ORTHO_DIAMETER_EN', \n",
        "'HN', \n",
        "'HO', \n",
        "'HP', \n",
        "'HQ', \n",
        "'HR',\n",
        "'LARGEST_PLANAR_ORTHO_DIAMETER_ST', \n",
        "'HU', \n",
        "'HV', \n",
        "'HW', \n",
        "'HX', \n",
        "'HY', \n",
        "'LESION_TYPE', \n",
        "'LUNG_RADS',\n",
        "'LUNG_RADS_ISOLATION',\n",
        "'PERCENT_AIR', \n",
        "'PERCENT_GGO', \n",
        "'PERCENT_SOLID', \n",
        "'PERCENT_SOLID_INCL_AIR',\n",
        "'SAGITTAL_LONG_AXIS_END_MM_X', \n",
        "'SAGITTAL_LONG_AXIS_END_MM_Y', \n",
        "'SAGITTAL_LONG_AXIS_END_MM_Z', \n",
        "'SAGITTAL_LONG_AXIS_END_VOXELS_X', \n",
        "'SAGITTAL_LONG_AXIS_END_VOXELS_Y', \n",
        "'SAGITTAL_LONG_AXIS_END_VOXELS_Z',\n",
        "'SAGITTAL_LONG_AXIS_START_MM_X', \n",
        "'SAGITTAL_LONG_AXIS_START_MM_Y', \n",
        "'SAGITTAL_LONG_AXIS_START_MM_Z', \n",
        "'SAGITTAL_LONG_AXIS_START_VOXELS_',\n",
        "'JG',\n",
        "'JH',\n",
        "'SAGITTAL_SHORT_AXIS_END_MM_X',\n",
        "'SAGITTAL_SHORT_AXIS_END_MM_Y',\n",
        "'SAGITTAL_SHORT_AXIS_END_MM_Z',\n",
        "'SAGITTAL_SHORT_AXIS_END_VOXELS_X', \n",
        "'SAGITTAL_SHORT_AXIS_END_VOXELS_Y', \n",
        "'SAGITTAL_SHORT_AXIS_END_VOXELS_Z',\n",
        "'SAGITTAL_SHORT_AXIS_START_MM_X', \n",
        "'SAGITTAL_SHORT_AXIS_START_MM_Y', \n",
        "'SAGITTAL_SHORT_AXIS_START_MM_Z', \n",
        "'SAGITTAL_SHORT_AXIS_START_VOXELS', \n",
        "'JT', \n",
        "'JU',\n",
        "'SLICE_INDEX',\n",
        "'TRANSVERSE_LENGTH_END_MM_X', \n",
        "'TRANSVERSE_LENGTH_END_MM_Y', \n",
        "'TRANSVERSE_LENGTH_END_MM_Z',\n",
        "'TRANSVERSE_LENGTH_START_MM_X', \n",
        "'TRANSVERSE_LENGTH_START_MM_Y', \n",
        "'TRANSVERSE_LENGTH_START_MM_Z',\n",
        "'VOLUMETRIC_LENGTH_END_MM_X', \n",
        "'VOLUMETRIC_LENGTH_END_MM_Y', \n",
        "'VOLUMETRIC_LENGTH_END_MM_Z', \n",
        "'VOLUMETRIC_LENGTH_END_VOXELS_X', \n",
        "'VOLUMETRIC_LENGTH_END_VOXELS_Y', \n",
        "'VOLUMETRIC_LENGTH_END_VOXELS_Z',\n",
        "'VOLUMETRIC_LENGTH_START_MM_X',\n",
        "'VOLUMETRIC_LENGTH_START_MM_Y', \n",
        "'VOLUMETRIC_LENGTH_START_MM_Z', \n",
        "'VOLUMETRIC_LENGTH_START_VOXELS_X', \n",
        "'VOLUMETRIC_LENGTH_START_VOXELS_Y', \n",
        "'VOLUMETRIC_LENGTH_START_VOXELS_Z',\n",
        "'AVG_DENSITY', \n",
        "'MASS_GRAMS',\n",
        "'AVG_DENSITY_OF_GGO_REGION',\n",
        "'AVG_DENSITY_OF_SOLID_REGION',\n",
        "'EA',\n",
        "'EB',\n",
        "'INIT_DRAG_AXIAL_LA_END_MM_X',\n",
        "'INIT_DRAG_AXIAL_LA_END_MM_Y',\n",
        "'INIT_DRAG_AXIAL_LA_END_MM_Z',\n",
        "'INIT_DRAG_AXIAL_LA_START_MM_X',\n",
        "'INIT_DRAG_AXIAL_LA_START_MM_Y',\n",
        "'INIT_DRAG_AXIAL_LA_START_MM_Z',\n",
        "'HM',\n",
        "'HS',\n",
        "'HT',\n",
        "'HZ',\n",
        "'IC',\n",
        "'ID',\n",
        "'IE',\n",
        "'IF',\n",
        "'IG',\n",
        "'MESH_STRUCTURE_MODIFIED',\n",
        "'JP',\n",
        "'JQ',\n",
        "'KC',\n",
        "'KD',\n",
        "'SEG_BOUNDING_BOX_END_MM_X',\n",
        "'SEG_BOUNDING_BOX_END_MM_Y',\n",
        "'SEG_BOUNDING_BOX_END_MM_Z',\n",
        "'SEG_BOUNDING_BOX_START_MM_X',\n",
        "'SEG_BOUNDING_BOX_START_MM_Y',\n",
        "'SEG_BOUNDING_BOX_START_MM_Z',\n",
        "'MRNFROMHEALTHMYNE',\n",
        "'ABS_CHANGE_BL_LA',\n",
        "'ABS_CHANGE_BL_SA',\n",
        "'ABS_CHANGE_BL_SLDV',\n",
        "'ABS_CHANGE_BL_VOL',\n",
        "'ABS_CHANGE_PR_LA',\n",
        "'ABS_CHANGE_PR_SA',\n",
        "'ABS_CHANGE_PR_SLDV',\n",
        "'ABS_CHANGE_PR_VOL',\n",
        "'AE',\n",
        "'AF',\n",
        "'AL',\n",
        "'AR',\n",
        "'AY',\n",
        "'BE',\n",
        "'BR',\n",
        "'BS',\n",
        "'BT',\n",
        "'BU',\n",
        "'BX',\n",
        "'BY',\n",
        "'CE',\n",
        "'CL',\n",
        "'CO',\n",
        "'CR',\n",
        "'CS',\n",
        "'CV',\n",
        "'CW',\n",
        "'CY',\n",
        "'CZ',\n",
        "'EK',\n",
        "'EL',\n",
        "'DOUBLING_TIME_LA', \n",
        "'DOUBLING_TIME_LA_DAYS', \n",
        "'DOUBLING_TIME_SA', \n",
        "'DOUBLING_TIME_SA_DAYS', \n",
        "'DOUBLING_TIME_SLDV', \n",
        "'DOUBLING_TIME_SLDV_DAYS', \n",
        "'DOUBLING_TIME_VOL', \n",
        "'DOUBLING_TIME_VOL_DAYS', \n",
        "'INIT_DRAG_AXIAL_SA_END_MM_X', \n",
        "'INIT_DRAG_AXIAL_SA_END_MM_Y', \n",
        "'INIT_DRAG_AXIAL_SA_END_MM_Z', \n",
        "'INIT_DRAG_AXIAL_SA_START_MM_X', \n",
        "'INIT_DRAG_AXIAL_SA_START_MM_Y', \n",
        "'INIT_DRAG_AXIAL_SA_START_MM_Z', \n",
        "'IJ', \n",
        "'IK', \n",
        "'IN', \n",
        "'IO', \n",
        "'IQ', \n",
        "'IR', \n",
        "'IT', \n",
        "'IU', \n",
        "'IV', \n",
        "'IW', \n",
        "'IX', \n",
        "'JA', \n",
        "'JB', \n",
        "'JC', \n",
        "'JD', \n",
        "'JE', \n",
        "'PERCENT_CHANGE_BL_LA', \n",
        "'PERCENT_CHANGE_BL_SA', \n",
        "'PERCENT_CHANGE_BL_SLDV', \n",
        "'PERCENT_CHANGE_BL_VOL', \n",
        "'PERCENT_CHANGE_PR_LA', \n",
        "'PERCENT_CHANGE_PR_SA', \n",
        "'PERCENT_CHANGE_PR_SLDV', \n",
        "'PERCENT_CHANGE_PR_VOL', \n",
        "'RATE_OF_GROWTH_LA', \n",
        "'RATE_OF_GROWTH_SA', \n",
        "'RATE_OF_GROWTH_SLDV', \n",
        "'RATE_OF_GROWTH_VOL', \n",
        "'LA', \n",
        "'LB', \n",
        "'LN',\n",
        "'LO',\n",
        "]\n",
        "ds.drop(drop_columns,axis=1,inplace=True)"
      ],
      "execution_count": null,
      "outputs": []
    },
    {
      "cell_type": "markdown",
      "metadata": {
        "id": "aPc9OigzcsEF"
      },
      "source": [
        "## Patients to drop"
      ]
    },
    {
      "cell_type": "code",
      "metadata": {
        "id": "kPDo3g-smzOV"
      },
      "source": [
        "#Rows (Patients) to Drop\n",
        "ds = ds[ds['mucinous'].notna()] # One patient missing mucinous value"
      ],
      "execution_count": null,
      "outputs": []
    },
    {
      "cell_type": "markdown",
      "metadata": {
        "id": "bih-8LwWCfaQ"
      },
      "source": [
        "## Fill column data"
      ]
    },
    {
      "cell_type": "code",
      "metadata": {
        "id": "zhhItQDzPcUB"
      },
      "source": [
        "#Data to Fill\n",
        "#ds['']=ds[''].fillna(ds[''].mode()[0])\n",
        "ds['height']=ds['height'].fillna(ds['height'].mode()[0])"
      ],
      "execution_count": null,
      "outputs": []
    },
    {
      "cell_type": "markdown",
      "metadata": {
        "id": "St2kIuzNO3Xw"
      },
      "source": [
        "# Manipulated Data Visualized\n"
      ]
    },
    {
      "cell_type": "code",
      "metadata": {
        "id": "2eKAgkTeOady"
      },
      "source": [
        "#Shape after Dropping\n",
        "ds.shape"
      ],
      "execution_count": null,
      "outputs": []
    },
    {
      "cell_type": "code",
      "metadata": {
        "id": "zTzzOy0VPTj8"
      },
      "source": [
        "#Heatmap of dataset showing the null values\n",
        "sns.heatmap(ds.isnull(),yticklabels=False,cbar=False,cmap='viridis')"
      ],
      "execution_count": null,
      "outputs": []
    },
    {
      "cell_type": "code",
      "metadata": {
        "id": "lbqqI7alrakd"
      },
      "source": [
        "pd.set_option('display.max_rows', 5)\n",
        "pd.set_option('display.max_columns', 5)\n",
        "ds.isnull().sum()\n",
        "#print(ds)"
      ],
      "execution_count": null,
      "outputs": []
    },
    {
      "cell_type": "markdown",
      "metadata": {
        "id": "ysfiE1WqPFWc"
      },
      "source": [
        "# Export Modified dataset"
      ]
    },
    {
      "cell_type": "code",
      "metadata": {
        "id": "3AGzDR28giIy"
      },
      "source": [
        "#Export current modified data set \n",
        "ds.to_csv('original_processed.csv',index=False)\n",
        "!cp original_processed.csv {DATASET_SAVE_LOCATION}"
      ],
      "execution_count": null,
      "outputs": []
    },
    {
      "cell_type": "code",
      "metadata": {
        "id": "KiXa2lPDg21S"
      },
      "source": [
        "#Mucinous Dataset\n",
        "dataframe =pd.read_csv(DATASET_SAVE_LOCATION)\n",
        "\n",
        "# Drop hgd_malignant row\n",
        "dataframe.drop('hgd_malignancy',axis=1,inplace=True)\n",
        "\n",
        "#Export to .csv and save in drive\n",
        "dataframe.to_csv('mucinous_processed.csv',index=False)\n",
        "!cp mucinous_processed.csv {DATASET_SAVE_LOCATION}"
      ],
      "execution_count": null,
      "outputs": []
    },
    {
      "cell_type": "code",
      "metadata": {
        "id": "_ElT98HFg3C-"
      },
      "source": [
        "#hgd dataset\n",
        "dataframe =pd.read_csv(DATASET_SAVE_LOCATION)\n",
        "\n",
        "# Find and Delete nonmucinous rows\n",
        "nonMucinous = dataframe[ dataframe['mucinous'] == 0 ].index\n",
        "dataframe.drop(nonMucinous, inplace=True)\n",
        "dataframe.drop('mucinous',axis=1,inplace=True)\n",
        "\n",
        "#Change missing values in 'hgd_malignancy' to 0\n",
        "dataframe['hgd_malignancy']=dataframe['hgd_malignancy'].fillna(value=0)\n",
        "\n",
        "#Export to .csv and save in drive\n",
        "dataframe.to_csv('hgd_processed.csv',index=False)\n",
        "!cp hgd_processed.csv {DATASET_SAVE_LOCATION}"
      ],
      "execution_count": null,
      "outputs": []
    },
    {
      "cell_type": "markdown",
      "metadata": {
        "id": "T_ZoPGS--XQy"
      },
      "source": [
        "## Texture only feature set"
      ]
    },
    {
      "cell_type": "code",
      "metadata": {
        "id": "wWTCsdaQ-TjO"
      },
      "source": [
        "#Mucinous Dataset\n",
        "dataframe =pd.read_csv(DATASET_SAVE_LOCATION)\n",
        "\n",
        "# Drop hgd_malignant row\n",
        "dataframe.drop('hgd_malignancy',axis=1,inplace=True)\n",
        "\n",
        "#Export to .csv and save in drive\n",
        "dataframe.to_csv('texture_feature_set_mucinous_processed.csv',index=False)\n",
        "!cp texture_feature_set_mucinous_processed.csv {DATASET_SAVE_LOCATION}"
      ],
      "execution_count": null,
      "outputs": []
    },
    {
      "cell_type": "code",
      "metadata": {
        "id": "3yja_X3D-TuY"
      },
      "source": [
        "#hgd dataset\n",
        "dataframe =pd.read_csv(DATASET_SAVE_LOCATION)\n",
        "\n",
        "# Find and Delete nonmucinous rows\n",
        "nonMucinous = dataframe[ dataframe['mucinous'] == 0 ].index\n",
        "dataframe.drop(nonMucinous, inplace=True)\n",
        "dataframe.drop('mucinous',axis=1,inplace=True)\n",
        "\n",
        "#Change missing values in 'hgd_malignancy' to 0\n",
        "dataframe['hgd_malignancy']=dataframe['hgd_malignancy'].fillna(value=0)\n",
        "\n",
        "#Export to .csv and save in drive\n",
        "dataframe.to_csv('texture_feature_set_hgd_processed.csv',index=False)\n",
        "!cp texture_feature_set_hgd_processed.csv {DATASET_SAVE_LOCATION}"
      ],
      "execution_count": null,
      "outputs": []
    },
    {
      "cell_type": "markdown",
      "metadata": {
        "id": "Nv3BVfXqBO_C"
      },
      "source": [
        "## Clinical Only Features"
      ]
    },
    {
      "cell_type": "code",
      "metadata": {
        "id": "D_KzVte8BPTK"
      },
      "source": [
        "#Mucinous Dataset\n",
        "dataframe = pd.read_csv(DATASET_SAVE_LOCATION)\n",
        "\n",
        "# Drop hgd_malignant row\n",
        "dataframe.drop('hgd_malignancy',axis=1,inplace=True)\n",
        "\n",
        "#Export to .csv and save in drive\n",
        "dataframe.to_csv('clinical_data_mucinous_processed.csv',index=False)\n",
        "!cp clinical_data_mucinous_processed.csv {DATASET_SAVE_LOCATION}"
      ],
      "execution_count": null,
      "outputs": []
    },
    {
      "cell_type": "code",
      "metadata": {
        "id": "_9DB269oBPV9"
      },
      "source": [
        "#hgd dataset\n",
        "dataframe =pd.read_csv(DATASET_SAVE_LOCATION)\n",
        "\n",
        "# Find and Delete nonmucinous rows\n",
        "nonMucinous = dataframe[ dataframe['mucinous'] == 0 ].index\n",
        "dataframe.drop(nonMucinous, inplace=True)\n",
        "dataframe.drop('mucinous',axis=1,inplace=True)\n",
        "\n",
        "#Change missing values in 'hgd_malignancy' to 0\n",
        "dataframe['hgd_malignancy']=dataframe['hgd_malignancy'].fillna(value=0)\n",
        "\n",
        "#Export to .csv and save in drive\n",
        "dataframe.to_csv('clinical_data_hgd_processed.csv',index=False)\n",
        "!cp clinical_data_hgd_processed.csv {DATASET_SAVE_LOCATION}"
      ],
      "execution_count": null,
      "outputs": []
    }
  ]
}